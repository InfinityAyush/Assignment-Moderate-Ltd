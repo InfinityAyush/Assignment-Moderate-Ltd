{
 "cells": [
  {
   "cell_type": "code",
   "execution_count": 1,
   "id": "23fce45b-a8cf-4f32-8279-f32c0a16a1f6",
   "metadata": {},
   "outputs": [],
   "source": [
    "import numpy as np\n",
    "import pandas as pd"
   ]
  },
  {
   "cell_type": "code",
   "execution_count": 10,
   "id": "7aba25c2-5e03-4a19-bd10-c573095ac54a",
   "metadata": {},
   "outputs": [],
   "source": [
    "df = pd.read_csv(\"emotion-emotion_69k.csv\")"
   ]
  },
  {
   "cell_type": "code",
   "execution_count": 12,
   "id": "c81c05b5-11d0-4583-b0d8-bd68ea33f64a",
   "metadata": {},
   "outputs": [],
   "source": [
    "df = df[[\"emotion\", \"empathetic_dialogues\", \"labels\"]]"
   ]
  },
  {
   "cell_type": "code",
   "execution_count": 14,
   "id": "71cc3a5d-5a26-4b4c-8c97-5483ad9251af",
   "metadata": {},
   "outputs": [
    {
     "data": {
      "text/html": [
       "<div>\n",
       "<style scoped>\n",
       "    .dataframe tbody tr th:only-of-type {\n",
       "        vertical-align: middle;\n",
       "    }\n",
       "\n",
       "    .dataframe tbody tr th {\n",
       "        vertical-align: top;\n",
       "    }\n",
       "\n",
       "    .dataframe thead th {\n",
       "        text-align: right;\n",
       "    }\n",
       "</style>\n",
       "<table border=\"1\" class=\"dataframe\">\n",
       "  <thead>\n",
       "    <tr style=\"text-align: right;\">\n",
       "      <th></th>\n",
       "      <th>emotion</th>\n",
       "      <th>empathetic_dialogues</th>\n",
       "      <th>labels</th>\n",
       "    </tr>\n",
       "  </thead>\n",
       "  <tbody>\n",
       "    <tr>\n",
       "      <th>0</th>\n",
       "      <td>sentimental</td>\n",
       "      <td>Customer :I remember going to see the firework...</td>\n",
       "      <td>Was this a friend you were in love with, or ju...</td>\n",
       "    </tr>\n",
       "    <tr>\n",
       "      <th>1</th>\n",
       "      <td>sentimental</td>\n",
       "      <td>Customer :This was a best friend. I miss her.\\...</td>\n",
       "      <td>Where has she gone?</td>\n",
       "    </tr>\n",
       "    <tr>\n",
       "      <th>2</th>\n",
       "      <td>sentimental</td>\n",
       "      <td>Customer :We no longer talk.\\nAgent :</td>\n",
       "      <td>Oh was this something that happened because of...</td>\n",
       "    </tr>\n",
       "    <tr>\n",
       "      <th>3</th>\n",
       "      <td>sentimental</td>\n",
       "      <td>Customer :Was this a friend you were in love w...</td>\n",
       "      <td>This was a best friend. I miss her.</td>\n",
       "    </tr>\n",
       "    <tr>\n",
       "      <th>4</th>\n",
       "      <td>sentimental</td>\n",
       "      <td>Customer :Where has she gone?\\nAgent :</td>\n",
       "      <td>We no longer talk.</td>\n",
       "    </tr>\n",
       "  </tbody>\n",
       "</table>\n",
       "</div>"
      ],
      "text/plain": [
       "       emotion                               empathetic_dialogues  \\\n",
       "0  sentimental  Customer :I remember going to see the firework...   \n",
       "1  sentimental  Customer :This was a best friend. I miss her.\\...   \n",
       "2  sentimental              Customer :We no longer talk.\\nAgent :   \n",
       "3  sentimental  Customer :Was this a friend you were in love w...   \n",
       "4  sentimental             Customer :Where has she gone?\\nAgent :   \n",
       "\n",
       "                                              labels  \n",
       "0  Was this a friend you were in love with, or ju...  \n",
       "1                                Where has she gone?  \n",
       "2  Oh was this something that happened because of...  \n",
       "3                This was a best friend. I miss her.  \n",
       "4                                 We no longer talk.  "
      ]
     },
     "execution_count": 14,
     "metadata": {},
     "output_type": "execute_result"
    }
   ],
   "source": [
    "df.head()"
   ]
  },
  {
   "cell_type": "code",
   "execution_count": 16,
   "id": "a42c4a57-f939-4e8c-9ac4-e71ed6623660",
   "metadata": {},
   "outputs": [
    {
     "data": {
      "text/plain": [
       "emotion                 4\n",
       "empathetic_dialogues    0\n",
       "labels                  0\n",
       "dtype: int64"
      ]
     },
     "execution_count": 16,
     "metadata": {},
     "output_type": "execute_result"
    }
   ],
   "source": [
    "df.isnull().sum()"
   ]
  },
  {
   "cell_type": "code",
   "execution_count": 18,
   "id": "f1b1a81d-09c1-487a-b241-19392790d2d6",
   "metadata": {},
   "outputs": [],
   "source": [
    "# Removing null dataset rows\n",
    "df = df.dropna()"
   ]
  },
  {
   "cell_type": "code",
   "execution_count": 20,
   "id": "82f6dd38-127c-4474-986c-238e7a482455",
   "metadata": {},
   "outputs": [
    {
     "data": {
      "text/plain": [
       "emotion                 0\n",
       "empathetic_dialogues    0\n",
       "labels                  0\n",
       "dtype: int64"
      ]
     },
     "execution_count": 20,
     "metadata": {},
     "output_type": "execute_result"
    }
   ],
   "source": [
    "df.isnull().sum()"
   ]
  },
  {
   "cell_type": "code",
   "execution_count": 22,
   "id": "4632b2da-73b5-4b51-9f9c-88e485f36deb",
   "metadata": {},
   "outputs": [
    {
     "data": {
      "text/plain": [
       "(64632, 3)"
      ]
     },
     "execution_count": 22,
     "metadata": {},
     "output_type": "execute_result"
    }
   ],
   "source": [
    "df.shape"
   ]
  },
  {
   "cell_type": "code",
   "execution_count": 24,
   "id": "31549506-1aef-45d4-9cf7-0199eb83d010",
   "metadata": {},
   "outputs": [],
   "source": [
    "# Remove specific words Customer and Agent\n",
    "df[\"empathetic_dialogues\"] = [text.replace(\"Customer :\", \"\").replace(\"\\nAgent :\", \"\").strip() for text in df[\"empathetic_dialogues\"]]"
   ]
  },
  {
   "cell_type": "code",
   "execution_count": 26,
   "id": "90bf8499-50da-4e1b-9f14-e33e0d0fe9a0",
   "metadata": {},
   "outputs": [
    {
     "data": {
      "text/plain": [
       "'I remember going to see the fireworks with my best friend. It was the first time we ever spent time alone together. Although there was a lot of people, we felt like the only people in the world.'"
      ]
     },
     "execution_count": 26,
     "metadata": {},
     "output_type": "execute_result"
    }
   ],
   "source": [
    "df[\"empathetic_dialogues\"][0]"
   ]
  },
  {
   "cell_type": "code",
   "execution_count": 28,
   "id": "072ae212-7c06-459d-854f-792c820c2603",
   "metadata": {},
   "outputs": [
    {
     "data": {
      "text/html": [
       "<div>\n",
       "<style scoped>\n",
       "    .dataframe tbody tr th:only-of-type {\n",
       "        vertical-align: middle;\n",
       "    }\n",
       "\n",
       "    .dataframe tbody tr th {\n",
       "        vertical-align: top;\n",
       "    }\n",
       "\n",
       "    .dataframe thead th {\n",
       "        text-align: right;\n",
       "    }\n",
       "</style>\n",
       "<table border=\"1\" class=\"dataframe\">\n",
       "  <thead>\n",
       "    <tr style=\"text-align: right;\">\n",
       "      <th></th>\n",
       "      <th>emotion</th>\n",
       "      <th>empathetic_dialogues</th>\n",
       "      <th>labels</th>\n",
       "    </tr>\n",
       "  </thead>\n",
       "  <tbody>\n",
       "    <tr>\n",
       "      <th>0</th>\n",
       "      <td>sentimental</td>\n",
       "      <td>I remember going to see the fireworks with my ...</td>\n",
       "      <td>Was this a friend you were in love with, or ju...</td>\n",
       "    </tr>\n",
       "    <tr>\n",
       "      <th>1</th>\n",
       "      <td>sentimental</td>\n",
       "      <td>This was a best friend. I miss her.</td>\n",
       "      <td>Where has she gone?</td>\n",
       "    </tr>\n",
       "    <tr>\n",
       "      <th>2</th>\n",
       "      <td>sentimental</td>\n",
       "      <td>We no longer talk.</td>\n",
       "      <td>Oh was this something that happened because of...</td>\n",
       "    </tr>\n",
       "    <tr>\n",
       "      <th>3</th>\n",
       "      <td>sentimental</td>\n",
       "      <td>Was this a friend you were in love with, or ju...</td>\n",
       "      <td>This was a best friend. I miss her.</td>\n",
       "    </tr>\n",
       "    <tr>\n",
       "      <th>4</th>\n",
       "      <td>sentimental</td>\n",
       "      <td>Where has she gone?</td>\n",
       "      <td>We no longer talk.</td>\n",
       "    </tr>\n",
       "  </tbody>\n",
       "</table>\n",
       "</div>"
      ],
      "text/plain": [
       "       emotion                               empathetic_dialogues  \\\n",
       "0  sentimental  I remember going to see the fireworks with my ...   \n",
       "1  sentimental                This was a best friend. I miss her.   \n",
       "2  sentimental                                 We no longer talk.   \n",
       "3  sentimental  Was this a friend you were in love with, or ju...   \n",
       "4  sentimental                                Where has she gone?   \n",
       "\n",
       "                                              labels  \n",
       "0  Was this a friend you were in love with, or ju...  \n",
       "1                                Where has she gone?  \n",
       "2  Oh was this something that happened because of...  \n",
       "3                This was a best friend. I miss her.  \n",
       "4                                 We no longer talk.  "
      ]
     },
     "execution_count": 28,
     "metadata": {},
     "output_type": "execute_result"
    }
   ],
   "source": [
    "df.head()"
   ]
  },
  {
   "cell_type": "code",
   "execution_count": 38,
   "id": "93459cee-82c6-41bf-88c3-3c0c8ebe146f",
   "metadata": {},
   "outputs": [
    {
     "data": {
      "text/plain": [
       "array(['sentimental', 'afraid', 'proud', 'faithful', 'terrified',\n",
       "       'joyful', 'angry', 'sad', 'jealous', 'grateful', 'prepared',\n",
       "       'embarrassed', 'excited', 'annoyed', 'lonely', 'ashamed', 'guilty',\n",
       "       'surprised', 'nostalgic', 'confident', 'furious', 'disappointed',\n",
       "       'caring', 'trusting', 'disgusted', 'anticipating', 'anxious',\n",
       "       'hopeful', 'content', 'impressed', 'apprehensive', 'devastated',\n",
       "       ' I really killed it!', ' we were in a different country',\n",
       "       't even like scary things',\n",
       "       't believe I like the show Power so much. I was never really into shows like that',\n",
       "       ' time to jump on the motorcycle and go cruising!',\n",
       "       \" a boy.  I hear all these different labor stories that aren't exactly reassuring!  \",\n",
       "       't believe my daughter taught herself how to play the ukelele. I was amazed',\n",
       "       't think I wold like super heroes',\n",
       "       \"m so mad with my brother. He stole from me and didn't think I would notice. \",\n",
       "       \" but what I didn't know was that he was working in the next room with the door open.  He approached and asked what I had been saying.  I knew I was caught.  I was so disgusted with myself.  \",\n",
       "       '('], dtype=object)"
      ]
     },
     "execution_count": 38,
     "metadata": {},
     "output_type": "execute_result"
    }
   ],
   "source": [
    "df[\"emotion\"].unique()"
   ]
  },
  {
   "cell_type": "code",
   "execution_count": 102,
   "id": "6086535a-6849-4e39-85a4-a13ff8b0a169",
   "metadata": {},
   "outputs": [],
   "source": [
    "filtered_df = df[df['emotion'].isin(['sentimental', 'afraid', 'proud', 'faithful', 'terrified',\n",
    "       'joyful', 'angry', 'sad', 'jealous', 'grateful', 'prepared',\n",
    "       'embarrassed', 'excited', 'annoyed', 'lonely', 'ashamed', 'guilty',\n",
    "       'surprised', 'nostalgic', 'confident', 'furious', 'disappointed',\n",
    "       'caring', 'trusting', 'disgusted', 'anticipating', 'anxious',\n",
    "       'hopeful', 'impressed', 'devastated',])]"
   ]
  },
  {
   "cell_type": "code",
   "execution_count": 104,
   "id": "9be868cd-172b-4260-875a-27a094c5764c",
   "metadata": {},
   "outputs": [
    {
     "data": {
      "text/plain": [
       "(61139, 3)"
      ]
     },
     "execution_count": 104,
     "metadata": {},
     "output_type": "execute_result"
    }
   ],
   "source": [
    "filtered_df.shape"
   ]
  },
  {
   "cell_type": "code",
   "execution_count": null,
   "id": "b683944d-dc7e-42b5-9769-05c39a47a8ae",
   "metadata": {},
   "outputs": [],
   "source": [
    "filtered_df.loc[:, 'instruction']= \"Tell emotion of the user as 'emotion : anger/sad/joyful' , and give empathetic respose as per emotion and tone.\""
   ]
  },
  {
   "cell_type": "code",
   "execution_count": null,
   "id": "2064f73e-ecd1-4d15-9a44-aa37113f58ab",
   "metadata": {},
   "outputs": [],
   "source": [
    "for i in range(len(filtered_df)):\n",
    "    e = filtered_df.loc[i, \"emotion\"]\n",
    "    a = filtered_df.loc[i, \"labels\"]\n",
    "    filtered_df.loc[i, \"labels\"] = f\"Emotion : {e}, {a}\""
   ]
  },
  {
   "cell_type": "code",
   "execution_count": 112,
   "id": "b16578f9-beac-4104-97ed-f516314061cb",
   "metadata": {},
   "outputs": [
    {
     "data": {
      "text/html": [
       "<div>\n",
       "<style scoped>\n",
       "    .dataframe tbody tr th:only-of-type {\n",
       "        vertical-align: middle;\n",
       "    }\n",
       "\n",
       "    .dataframe tbody tr th {\n",
       "        vertical-align: top;\n",
       "    }\n",
       "\n",
       "    .dataframe thead th {\n",
       "        text-align: right;\n",
       "    }\n",
       "</style>\n",
       "<table border=\"1\" class=\"dataframe\">\n",
       "  <thead>\n",
       "    <tr style=\"text-align: right;\">\n",
       "      <th></th>\n",
       "      <th>emotion</th>\n",
       "      <th>empathetic_dialogues</th>\n",
       "      <th>labels</th>\n",
       "      <th>instruction</th>\n",
       "    </tr>\n",
       "  </thead>\n",
       "  <tbody>\n",
       "    <tr>\n",
       "      <th>0</th>\n",
       "      <td>sentimental</td>\n",
       "      <td>I remember going to see the fireworks with my ...</td>\n",
       "      <td>Emotion : sentimental, Was this a friend you w...</td>\n",
       "      <td>Tell emotion of the user as 'emotion : anger/s...</td>\n",
       "    </tr>\n",
       "    <tr>\n",
       "      <th>1</th>\n",
       "      <td>sentimental</td>\n",
       "      <td>This was a best friend. I miss her.</td>\n",
       "      <td>Emotion : sentimental, Where has she gone?</td>\n",
       "      <td>Tell emotion of the user as 'emotion : anger/s...</td>\n",
       "    </tr>\n",
       "    <tr>\n",
       "      <th>2</th>\n",
       "      <td>sentimental</td>\n",
       "      <td>We no longer talk.</td>\n",
       "      <td>Emotion : sentimental, Oh was this something t...</td>\n",
       "      <td>Tell emotion of the user as 'emotion : anger/s...</td>\n",
       "    </tr>\n",
       "    <tr>\n",
       "      <th>3</th>\n",
       "      <td>sentimental</td>\n",
       "      <td>Was this a friend you were in love with, or ju...</td>\n",
       "      <td>Emotion : sentimental, This was a best friend....</td>\n",
       "      <td>Tell emotion of the user as 'emotion : anger/s...</td>\n",
       "    </tr>\n",
       "    <tr>\n",
       "      <th>4</th>\n",
       "      <td>sentimental</td>\n",
       "      <td>Where has she gone?</td>\n",
       "      <td>Emotion : sentimental, We no longer talk.</td>\n",
       "      <td>Tell emotion of the user as 'emotion : anger/s...</td>\n",
       "    </tr>\n",
       "  </tbody>\n",
       "</table>\n",
       "</div>"
      ],
      "text/plain": [
       "       emotion                               empathetic_dialogues  \\\n",
       "0  sentimental  I remember going to see the fireworks with my ...   \n",
       "1  sentimental                This was a best friend. I miss her.   \n",
       "2  sentimental                                 We no longer talk.   \n",
       "3  sentimental  Was this a friend you were in love with, or ju...   \n",
       "4  sentimental                                Where has she gone?   \n",
       "\n",
       "                                              labels  \\\n",
       "0  Emotion : sentimental, Was this a friend you w...   \n",
       "1         Emotion : sentimental, Where has she gone?   \n",
       "2  Emotion : sentimental, Oh was this something t...   \n",
       "3  Emotion : sentimental, This was a best friend....   \n",
       "4          Emotion : sentimental, We no longer talk.   \n",
       "\n",
       "                                         instruction  \n",
       "0  Tell emotion of the user as 'emotion : anger/s...  \n",
       "1  Tell emotion of the user as 'emotion : anger/s...  \n",
       "2  Tell emotion of the user as 'emotion : anger/s...  \n",
       "3  Tell emotion of the user as 'emotion : anger/s...  \n",
       "4  Tell emotion of the user as 'emotion : anger/s...  "
      ]
     },
     "execution_count": 112,
     "metadata": {},
     "output_type": "execute_result"
    }
   ],
   "source": [
    "filtered_df.head()"
   ]
  },
  {
   "cell_type": "code",
   "execution_count": 114,
   "id": "86fb91b6-61ed-437d-b518-1b48152aaf4f",
   "metadata": {},
   "outputs": [],
   "source": [
    "filtered_df = filtered_df[[\"instruction\",\"empathetic_dialogues\",\"labels\"]]"
   ]
  },
  {
   "cell_type": "code",
   "execution_count": 122,
   "id": "8ea80eff-fc57-49d7-a4c5-9ca4b57e8a1c",
   "metadata": {},
   "outputs": [],
   "source": [
    "filtered_df = filtered_df.rename(columns={'empathetic_dialogues': 'input'})"
   ]
  },
  {
   "cell_type": "code",
   "execution_count": 124,
   "id": "a5ed9aaf-3e92-4b36-b2d4-9a9cdca45cf7",
   "metadata": {},
   "outputs": [],
   "source": [
    "filtered_df = filtered_df.rename(columns={'labels': 'output'})"
   ]
  },
  {
   "cell_type": "code",
   "execution_count": 126,
   "id": "cdf7df24-29ac-41be-acc3-b1506a367293",
   "metadata": {},
   "outputs": [
    {
     "data": {
      "text/html": [
       "<div>\n",
       "<style scoped>\n",
       "    .dataframe tbody tr th:only-of-type {\n",
       "        vertical-align: middle;\n",
       "    }\n",
       "\n",
       "    .dataframe tbody tr th {\n",
       "        vertical-align: top;\n",
       "    }\n",
       "\n",
       "    .dataframe thead th {\n",
       "        text-align: right;\n",
       "    }\n",
       "</style>\n",
       "<table border=\"1\" class=\"dataframe\">\n",
       "  <thead>\n",
       "    <tr style=\"text-align: right;\">\n",
       "      <th></th>\n",
       "      <th>instruction</th>\n",
       "      <th>input</th>\n",
       "      <th>output</th>\n",
       "    </tr>\n",
       "  </thead>\n",
       "  <tbody>\n",
       "    <tr>\n",
       "      <th>0</th>\n",
       "      <td>Tell emotion of the user as 'emotion : anger/s...</td>\n",
       "      <td>I remember going to see the fireworks with my ...</td>\n",
       "      <td>Emotion : sentimental, Was this a friend you w...</td>\n",
       "    </tr>\n",
       "    <tr>\n",
       "      <th>1</th>\n",
       "      <td>Tell emotion of the user as 'emotion : anger/s...</td>\n",
       "      <td>This was a best friend. I miss her.</td>\n",
       "      <td>Emotion : sentimental, Where has she gone?</td>\n",
       "    </tr>\n",
       "    <tr>\n",
       "      <th>2</th>\n",
       "      <td>Tell emotion of the user as 'emotion : anger/s...</td>\n",
       "      <td>We no longer talk.</td>\n",
       "      <td>Emotion : sentimental, Oh was this something t...</td>\n",
       "    </tr>\n",
       "    <tr>\n",
       "      <th>3</th>\n",
       "      <td>Tell emotion of the user as 'emotion : anger/s...</td>\n",
       "      <td>Was this a friend you were in love with, or ju...</td>\n",
       "      <td>Emotion : sentimental, This was a best friend....</td>\n",
       "    </tr>\n",
       "    <tr>\n",
       "      <th>4</th>\n",
       "      <td>Tell emotion of the user as 'emotion : anger/s...</td>\n",
       "      <td>Where has she gone?</td>\n",
       "      <td>Emotion : sentimental, We no longer talk.</td>\n",
       "    </tr>\n",
       "  </tbody>\n",
       "</table>\n",
       "</div>"
      ],
      "text/plain": [
       "                                         instruction  \\\n",
       "0  Tell emotion of the user as 'emotion : anger/s...   \n",
       "1  Tell emotion of the user as 'emotion : anger/s...   \n",
       "2  Tell emotion of the user as 'emotion : anger/s...   \n",
       "3  Tell emotion of the user as 'emotion : anger/s...   \n",
       "4  Tell emotion of the user as 'emotion : anger/s...   \n",
       "\n",
       "                                               input  \\\n",
       "0  I remember going to see the fireworks with my ...   \n",
       "1                This was a best friend. I miss her.   \n",
       "2                                 We no longer talk.   \n",
       "3  Was this a friend you were in love with, or ju...   \n",
       "4                                Where has she gone?   \n",
       "\n",
       "                                              output  \n",
       "0  Emotion : sentimental, Was this a friend you w...  \n",
       "1         Emotion : sentimental, Where has she gone?  \n",
       "2  Emotion : sentimental, Oh was this something t...  \n",
       "3  Emotion : sentimental, This was a best friend....  \n",
       "4          Emotion : sentimental, We no longer talk.  "
      ]
     },
     "execution_count": 126,
     "metadata": {},
     "output_type": "execute_result"
    }
   ],
   "source": [
    "filtered_df.head()"
   ]
  },
  {
   "cell_type": "code",
   "execution_count": 144,
   "id": "f5fddce6-09e1-41ae-b292-8af1d0beae7d",
   "metadata": {},
   "outputs": [],
   "source": [
    "filtered_df.to_csv(\"finalDataset.csv\",index=False)"
   ]
  },
  {
   "cell_type": "code",
   "execution_count": 158,
   "id": "fa912144-0ffa-4a13-874e-ab0ab1df5946",
   "metadata": {},
   "outputs": [
    {
     "data": {
      "text/plain": [
       "instruction    Tell emotion of the user as 'emotion : anger/s...\n",
       "input          Job interviews always make me sweat bullets, m...\n",
       "output         Emotion : terrified, Don't be nervous. Just be...\n",
       "Name: 17, dtype: object"
      ]
     },
     "execution_count": 158,
     "metadata": {},
     "output_type": "execute_result"
    }
   ],
   "source": [
    "filtered_df.iloc[17]"
   ]
  },
  {
   "cell_type": "code",
   "execution_count": 160,
   "id": "21eb7cb5-8dd5-42fb-8ad9-542e46b8c13b",
   "metadata": {},
   "outputs": [],
   "source": [
    "df = pd.DataFrame()"
   ]
  },
  {
   "cell_type": "code",
   "execution_count": null,
   "id": "2c6561a8-f48b-40f3-adbb-b7a62c9dec28",
   "metadata": {},
   "outputs": [],
   "source": [
    "for i in range(len(filtered_df[\"input\"]):\n",
    "    a = filtered_df.loc[i, \"instruction\"]\n",
    "    b = filtered_df.loc[i, \"input\"]\n",
    "    c = filtered_df.loc[i, \"output\"]\n",
    "    df.iloc[i] = f\"<s> [{a}] "
   ]
  },
  {
   "cell_type": "code",
   "execution_count": 3,
   "id": "a9b0aff4-f4ed-46fc-8352-74f75bd39fc1",
   "metadata": {},
   "outputs": [],
   "source": [
    "df = pd.read_csv(\"finalDataset.csv\")"
   ]
  },
  {
   "cell_type": "code",
   "execution_count": 5,
   "id": "09157087-bc0b-4db3-ae0c-7cc817b3e07a",
   "metadata": {},
   "outputs": [],
   "source": [
    "new_df = df.head(1000)"
   ]
  },
  {
   "cell_type": "code",
   "execution_count": 9,
   "id": "633ddf9c-9a4c-4a63-8ed6-cad3dc64b394",
   "metadata": {},
   "outputs": [],
   "source": [
    "new_df.to_csv(\"finalDataset_1k.csv\",index=False)"
   ]
  },
  {
   "cell_type": "code",
   "execution_count": null,
   "id": "66b807c9-a17c-4e7b-8013-f0b34317138f",
   "metadata": {},
   "outputs": [],
   "source": []
  }
 ],
 "metadata": {
  "kernelspec": {
   "display_name": "Python 3 (ipykernel)",
   "language": "python",
   "name": "python3"
  },
  "language_info": {
   "codemirror_mode": {
    "name": "ipython",
    "version": 3
   },
   "file_extension": ".py",
   "mimetype": "text/x-python",
   "name": "python",
   "nbconvert_exporter": "python",
   "pygments_lexer": "ipython3",
   "version": "3.12.4"
  }
 },
 "nbformat": 4,
 "nbformat_minor": 5
}
